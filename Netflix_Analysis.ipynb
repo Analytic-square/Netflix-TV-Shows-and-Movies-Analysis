{
 "cells": [
  {
   "cell_type": "markdown",
   "id": "ced136fe",
   "metadata": {},
   "source": [
    "# Tasks performed in project"
   ]
  },
  {
   "cell_type": "markdown",
   "id": "fb7167e9",
   "metadata": {},
   "source": [
    "1. EDA\n",
    "2. some useful insights\n",
    "3. content based recommendation system"
   ]
  },
  {
   "cell_type": "markdown",
   "id": "7e506ae0",
   "metadata": {},
   "source": [
    "# 1. Import libraries"
   ]
  },
  {
   "cell_type": "code",
   "execution_count": 2,
   "id": "79072715",
   "metadata": {},
   "outputs": [],
   "source": [
    "import numpy as np # linear algebra\n",
    "import pandas as pd # data processing, CSV file I/O (e.g. pd.read_csv)\n",
    "import matplotlib.pyplot as plt\n",
    "from sklearn.feature_extraction.text import TfidfVectorizer\n",
    "from sklearn.metrics.pairwise import sigmoid_kernel"
   ]
  },
  {
   "cell_type": "markdown",
   "id": "524749d5",
   "metadata": {},
   "source": [
    "# 2. Load dataset"
   ]
  },
  {
   "cell_type": "code",
   "execution_count": 3,
   "id": "c7ea7c82",
   "metadata": {},
   "outputs": [
    {
     "name": "stdout",
     "output_type": "stream",
     "text": [
      "Dataset loaded...\n"
     ]
    }
   ],
   "source": [
    "df = pd.read_csv(\"D:/ML & AI EDU/Tensorflow Lectures Udemy/titles.csv\")\n",
    "print(\"Dataset loaded...\")"
   ]
  },
  {
   "cell_type": "markdown",
   "id": "80041a46",
   "metadata": {},
   "source": [
    "# 3. EDA"
   ]
  },
  {
   "cell_type": "code",
   "execution_count": 4,
   "id": "a1be7f7f",
   "metadata": {},
   "outputs": [
    {
     "data": {
      "text/html": [
       "<div>\n",
       "<style scoped>\n",
       "    .dataframe tbody tr th:only-of-type {\n",
       "        vertical-align: middle;\n",
       "    }\n",
       "\n",
       "    .dataframe tbody tr th {\n",
       "        vertical-align: top;\n",
       "    }\n",
       "\n",
       "    .dataframe thead th {\n",
       "        text-align: right;\n",
       "    }\n",
       "</style>\n",
       "<table border=\"1\" class=\"dataframe\">\n",
       "  <thead>\n",
       "    <tr style=\"text-align: right;\">\n",
       "      <th></th>\n",
       "      <th>id</th>\n",
       "      <th>title</th>\n",
       "      <th>type</th>\n",
       "      <th>description</th>\n",
       "      <th>release_year</th>\n",
       "      <th>age_certification</th>\n",
       "      <th>runtime</th>\n",
       "      <th>genres</th>\n",
       "      <th>production_countries</th>\n",
       "      <th>seasons</th>\n",
       "      <th>imdb_id</th>\n",
       "      <th>imdb_score</th>\n",
       "      <th>imdb_votes</th>\n",
       "      <th>tmdb_popularity</th>\n",
       "      <th>tmdb_score</th>\n",
       "    </tr>\n",
       "  </thead>\n",
       "  <tbody>\n",
       "    <tr>\n",
       "      <th>0</th>\n",
       "      <td>ts300399</td>\n",
       "      <td>Five Came Back: The Reference Films</td>\n",
       "      <td>SHOW</td>\n",
       "      <td>This collection includes 12 World War II-era p...</td>\n",
       "      <td>1945</td>\n",
       "      <td>TV-MA</td>\n",
       "      <td>48</td>\n",
       "      <td>['documentation']</td>\n",
       "      <td>['US']</td>\n",
       "      <td>1.0</td>\n",
       "      <td>NaN</td>\n",
       "      <td>NaN</td>\n",
       "      <td>NaN</td>\n",
       "      <td>0.600</td>\n",
       "      <td>NaN</td>\n",
       "    </tr>\n",
       "    <tr>\n",
       "      <th>1</th>\n",
       "      <td>tm84618</td>\n",
       "      <td>Taxi Driver</td>\n",
       "      <td>MOVIE</td>\n",
       "      <td>A mentally unstable Vietnam War veteran works ...</td>\n",
       "      <td>1976</td>\n",
       "      <td>R</td>\n",
       "      <td>113</td>\n",
       "      <td>['crime', 'drama']</td>\n",
       "      <td>['US']</td>\n",
       "      <td>NaN</td>\n",
       "      <td>tt0075314</td>\n",
       "      <td>8.3</td>\n",
       "      <td>795222.0</td>\n",
       "      <td>27.612</td>\n",
       "      <td>8.2</td>\n",
       "    </tr>\n",
       "    <tr>\n",
       "      <th>2</th>\n",
       "      <td>tm127384</td>\n",
       "      <td>Monty Python and the Holy Grail</td>\n",
       "      <td>MOVIE</td>\n",
       "      <td>King Arthur, accompanied by his squire, recrui...</td>\n",
       "      <td>1975</td>\n",
       "      <td>PG</td>\n",
       "      <td>91</td>\n",
       "      <td>['comedy', 'fantasy']</td>\n",
       "      <td>['GB']</td>\n",
       "      <td>NaN</td>\n",
       "      <td>tt0071853</td>\n",
       "      <td>8.2</td>\n",
       "      <td>530877.0</td>\n",
       "      <td>18.216</td>\n",
       "      <td>7.8</td>\n",
       "    </tr>\n",
       "    <tr>\n",
       "      <th>3</th>\n",
       "      <td>tm70993</td>\n",
       "      <td>Life of Brian</td>\n",
       "      <td>MOVIE</td>\n",
       "      <td>Brian Cohen is an average young Jewish man, bu...</td>\n",
       "      <td>1979</td>\n",
       "      <td>R</td>\n",
       "      <td>94</td>\n",
       "      <td>['comedy']</td>\n",
       "      <td>['GB']</td>\n",
       "      <td>NaN</td>\n",
       "      <td>tt0079470</td>\n",
       "      <td>8.0</td>\n",
       "      <td>392419.0</td>\n",
       "      <td>17.505</td>\n",
       "      <td>7.8</td>\n",
       "    </tr>\n",
       "    <tr>\n",
       "      <th>4</th>\n",
       "      <td>tm190788</td>\n",
       "      <td>The Exorcist</td>\n",
       "      <td>MOVIE</td>\n",
       "      <td>12-year-old Regan MacNeil begins to adapt an e...</td>\n",
       "      <td>1973</td>\n",
       "      <td>R</td>\n",
       "      <td>133</td>\n",
       "      <td>['horror']</td>\n",
       "      <td>['US']</td>\n",
       "      <td>NaN</td>\n",
       "      <td>tt0070047</td>\n",
       "      <td>8.1</td>\n",
       "      <td>391942.0</td>\n",
       "      <td>95.337</td>\n",
       "      <td>7.7</td>\n",
       "    </tr>\n",
       "  </tbody>\n",
       "</table>\n",
       "</div>"
      ],
      "text/plain": [
       "         id                                title   type  \\\n",
       "0  ts300399  Five Came Back: The Reference Films   SHOW   \n",
       "1   tm84618                          Taxi Driver  MOVIE   \n",
       "2  tm127384      Monty Python and the Holy Grail  MOVIE   \n",
       "3   tm70993                        Life of Brian  MOVIE   \n",
       "4  tm190788                         The Exorcist  MOVIE   \n",
       "\n",
       "                                         description  release_year  \\\n",
       "0  This collection includes 12 World War II-era p...          1945   \n",
       "1  A mentally unstable Vietnam War veteran works ...          1976   \n",
       "2  King Arthur, accompanied by his squire, recrui...          1975   \n",
       "3  Brian Cohen is an average young Jewish man, bu...          1979   \n",
       "4  12-year-old Regan MacNeil begins to adapt an e...          1973   \n",
       "\n",
       "  age_certification  runtime                 genres production_countries  \\\n",
       "0             TV-MA       48      ['documentation']               ['US']   \n",
       "1                 R      113     ['crime', 'drama']               ['US']   \n",
       "2                PG       91  ['comedy', 'fantasy']               ['GB']   \n",
       "3                 R       94             ['comedy']               ['GB']   \n",
       "4                 R      133             ['horror']               ['US']   \n",
       "\n",
       "   seasons    imdb_id  imdb_score  imdb_votes  tmdb_popularity  tmdb_score  \n",
       "0      1.0        NaN         NaN         NaN            0.600         NaN  \n",
       "1      NaN  tt0075314         8.3    795222.0           27.612         8.2  \n",
       "2      NaN  tt0071853         8.2    530877.0           18.216         7.8  \n",
       "3      NaN  tt0079470         8.0    392419.0           17.505         7.8  \n",
       "4      NaN  tt0070047         8.1    391942.0           95.337         7.7  "
      ]
     },
     "execution_count": 4,
     "metadata": {},
     "output_type": "execute_result"
    }
   ],
   "source": [
    "df.head()"
   ]
  },
  {
   "cell_type": "code",
   "execution_count": 5,
   "id": "c27d74c6",
   "metadata": {},
   "outputs": [
    {
     "data": {
      "text/plain": [
       "(5806, 15)"
      ]
     },
     "execution_count": 5,
     "metadata": {},
     "output_type": "execute_result"
    }
   ],
   "source": [
    "df.shape"
   ]
  },
  {
   "cell_type": "code",
   "execution_count": 6,
   "id": "9f8c2f0f",
   "metadata": {},
   "outputs": [
    {
     "data": {
      "text/plain": [
       "Index(['id', 'title', 'type', 'description', 'release_year',\n",
       "       'age_certification', 'runtime', 'genres', 'production_countries',\n",
       "       'seasons', 'imdb_id', 'imdb_score', 'imdb_votes', 'tmdb_popularity',\n",
       "       'tmdb_score'],\n",
       "      dtype='object')"
      ]
     },
     "execution_count": 6,
     "metadata": {},
     "output_type": "execute_result"
    }
   ],
   "source": [
    "df.columns"
   ]
  },
  {
   "cell_type": "code",
   "execution_count": 7,
   "id": "67d43288",
   "metadata": {},
   "outputs": [
    {
     "data": {
      "text/plain": [
       "id                         0\n",
       "title                      1\n",
       "type                       0\n",
       "description               18\n",
       "release_year               0\n",
       "age_certification       2610\n",
       "runtime                    0\n",
       "genres                     0\n",
       "production_countries       0\n",
       "seasons                 3759\n",
       "imdb_id                  444\n",
       "imdb_score               523\n",
       "imdb_votes               539\n",
       "tmdb_popularity           94\n",
       "tmdb_score               318\n",
       "dtype: int64"
      ]
     },
     "execution_count": 7,
     "metadata": {},
     "output_type": "execute_result"
    }
   ],
   "source": [
    "df.isnull().sum()"
   ]
  },
  {
   "cell_type": "code",
   "execution_count": 8,
   "id": "d65df5a1",
   "metadata": {},
   "outputs": [
    {
     "name": "stderr",
     "output_type": "stream",
     "text": [
      "C:\\Users\\Sanchit\\AppData\\Local\\Temp/ipykernel_15676/114435927.py:1: FutureWarning: Dropping of nuisance columns in DataFrame reductions (with 'numeric_only=None') is deprecated; in a future version this will raise TypeError.  Select only valid columns before calling the reduction.\n",
      "  df = df.fillna(df.mean())\n"
     ]
    }
   ],
   "source": [
    "df = df.fillna(df.mean())"
   ]
  },
  {
   "cell_type": "code",
   "execution_count": 9,
   "id": "cdfad5c0",
   "metadata": {},
   "outputs": [
    {
     "data": {
      "text/plain": [
       "id                         0\n",
       "title                      1\n",
       "type                       0\n",
       "description               18\n",
       "release_year               0\n",
       "age_certification       2610\n",
       "runtime                    0\n",
       "genres                     0\n",
       "production_countries       0\n",
       "seasons                    0\n",
       "imdb_id                  444\n",
       "imdb_score                 0\n",
       "imdb_votes                 0\n",
       "tmdb_popularity            0\n",
       "tmdb_score                 0\n",
       "dtype: int64"
      ]
     },
     "execution_count": 9,
     "metadata": {},
     "output_type": "execute_result"
    }
   ],
   "source": [
    "df.isnull().sum()"
   ]
  },
  {
   "cell_type": "code",
   "execution_count": 10,
   "id": "6b6840b2",
   "metadata": {},
   "outputs": [
    {
     "data": {
      "text/plain": [
       "0       False\n",
       "1       False\n",
       "2       False\n",
       "3       False\n",
       "4       False\n",
       "        ...  \n",
       "5801    False\n",
       "5802    False\n",
       "5803    False\n",
       "5804    False\n",
       "5805    False\n",
       "Length: 5806, dtype: bool"
      ]
     },
     "execution_count": 10,
     "metadata": {},
     "output_type": "execute_result"
    }
   ],
   "source": [
    "df.duplicated()"
   ]
  },
  {
   "cell_type": "code",
   "execution_count": 11,
   "id": "4720df62",
   "metadata": {},
   "outputs": [
    {
     "name": "stdout",
     "output_type": "stream",
     "text": [
      "<class 'pandas.core.frame.DataFrame'>\n",
      "RangeIndex: 5806 entries, 0 to 5805\n",
      "Data columns (total 15 columns):\n",
      " #   Column                Non-Null Count  Dtype  \n",
      "---  ------                --------------  -----  \n",
      " 0   id                    5806 non-null   object \n",
      " 1   title                 5805 non-null   object \n",
      " 2   type                  5806 non-null   object \n",
      " 3   description           5788 non-null   object \n",
      " 4   release_year          5806 non-null   int64  \n",
      " 5   age_certification     3196 non-null   object \n",
      " 6   runtime               5806 non-null   int64  \n",
      " 7   genres                5806 non-null   object \n",
      " 8   production_countries  5806 non-null   object \n",
      " 9   seasons               5806 non-null   float64\n",
      " 10  imdb_id               5362 non-null   object \n",
      " 11  imdb_score            5806 non-null   float64\n",
      " 12  imdb_votes            5806 non-null   float64\n",
      " 13  tmdb_popularity       5806 non-null   float64\n",
      " 14  tmdb_score            5806 non-null   float64\n",
      "dtypes: float64(5), int64(2), object(8)\n",
      "memory usage: 680.5+ KB\n"
     ]
    }
   ],
   "source": [
    "df.info()"
   ]
  },
  {
   "cell_type": "markdown",
   "id": "f296952a",
   "metadata": {},
   "source": [
    "# 4. Data Visualisation"
   ]
  },
  {
   "cell_type": "code",
   "execution_count": 12,
   "id": "ec4f794a",
   "metadata": {},
   "outputs": [
    {
     "data": {
      "text/plain": [
       "<AxesSubplot:title={'center':'Word Count Distribution for book descriptions'}, ylabel='Frequency'>"
      ]
     },
     "execution_count": 12,
     "metadata": {},
     "output_type": "execute_result"
    },
    {
     "data": {
      "image/png": "[encoded data removed]",
      "text/plain": [
       "<Figure size 864x576 with 1 Axes>"
      ]
     },
     "metadata": {
      "needs_background": "light"
     },
     "output_type": "display_data"
    }
   ],
   "source": [
    "df['word_count'] = df['description'].apply(lambda x: len(str(x).split()))# Plotting the word count\n",
    "df['word_count'].plot(\n",
    "    kind='hist',\n",
    "    bins = 50,\n",
    "    figsize = (12,8),title='Word Count Distribution for book descriptions')"
   ]
  },
  {
   "cell_type": "markdown",
   "id": "2ea465cd",
   "metadata": {},
   "source": [
    "# bigram"
   ]
  },
  {
   "cell_type": "code",
   "execution_count": 13,
   "id": "b243a042",
   "metadata": {},
   "outputs": [
    {
     "data": {
      "text/plain": [
       "<AxesSubplot:title={'center':'Bigram disribution for the top 20 words in the book description'}, xlabel='bigram'>"
      ]
     },
     "execution_count": 13,
     "metadata": {},
     "output_type": "execute_result"
    },
    {
     "data": {
      "image/png": "[encoded data removed]",
      "text/plain": [
       "<Figure size 1080x504 with 1 Axes>"
      ]
     },
     "metadata": {
      "needs_background": "light"
     },
     "output_type": "display_data"
    }
   ],
   "source": [
    "#Converting text descriptions into vectors using TF-IDF using Bigram\n",
    "tf = TfidfVectorizer(ngram_range=(2, 2), stop_words='english', lowercase = False)\n",
    "tfidf_matrix = tf.fit_transform(df['genres'])\n",
    "total_words = tfidf_matrix.sum(axis=0) \n",
    "#Finding the word frequency\n",
    "freq = [(word, total_words[0, idx]) for word, idx in tf.vocabulary_.items()]\n",
    "freq =sorted(freq, key = lambda x: x[1], reverse=True)\n",
    "#converting into dataframe \n",
    "bigram = pd.DataFrame(freq)\n",
    "bigram.rename(columns = {0:'bigram', 1: 'count'}, inplace = True) \n",
    "#Taking first 20 records\n",
    "bigram = bigram.head(20)\n",
    "\n",
    "#Plotting the bigram distribution\n",
    "bigram.plot(x ='bigram', y='count', kind = 'bar', title = \"Bigram disribution for the top 20 words in the book description\", figsize = (15,7), )"
   ]
  },
  {
   "cell_type": "markdown",
   "id": "05015b44",
   "metadata": {},
   "source": [
    "# 5. Some Useful Insights"
   ]
  },
  {
   "cell_type": "code",
   "execution_count": 14,
   "id": "47a514e4",
   "metadata": {},
   "outputs": [
    {
     "data": {
      "text/html": [
       "<div>\n",
       "<style scoped>\n",
       "    .dataframe tbody tr th:only-of-type {\n",
       "        vertical-align: middle;\n",
       "    }\n",
       "\n",
       "    .dataframe tbody tr th {\n",
       "        vertical-align: top;\n",
       "    }\n",
       "\n",
       "    .dataframe thead th {\n",
       "        text-align: right;\n",
       "    }\n",
       "</style>\n",
       "<table border=\"1\" class=\"dataframe\">\n",
       "  <thead>\n",
       "    <tr style=\"text-align: right;\">\n",
       "      <th></th>\n",
       "      <th>id</th>\n",
       "      <th>title</th>\n",
       "      <th>type</th>\n",
       "      <th>description</th>\n",
       "      <th>release_year</th>\n",
       "      <th>age_certification</th>\n",
       "      <th>runtime</th>\n",
       "      <th>genres</th>\n",
       "      <th>production_countries</th>\n",
       "      <th>seasons</th>\n",
       "      <th>imdb_id</th>\n",
       "      <th>imdb_score</th>\n",
       "      <th>imdb_votes</th>\n",
       "      <th>tmdb_popularity</th>\n",
       "      <th>tmdb_score</th>\n",
       "      <th>word_count</th>\n",
       "    </tr>\n",
       "  </thead>\n",
       "  <tbody>\n",
       "    <tr>\n",
       "      <th>243</th>\n",
       "      <td>ts4</td>\n",
       "      <td>Breaking Bad</td>\n",
       "      <td>SHOW</td>\n",
       "      <td>When Walter White, a New Mexico chemistry teac...</td>\n",
       "      <td>2008</td>\n",
       "      <td>TV-MA</td>\n",
       "      <td>48</td>\n",
       "      <td>['drama', 'thriller', 'crime']</td>\n",
       "      <td>['US']</td>\n",
       "      <td>5.000000</td>\n",
       "      <td>tt0903747</td>\n",
       "      <td>9.500000</td>\n",
       "      <td>1.727694e+06</td>\n",
       "      <td>337.419</td>\n",
       "      <td>8.800000</td>\n",
       "      <td>56</td>\n",
       "    </tr>\n",
       "    <tr>\n",
       "      <th>244</th>\n",
       "      <td>ts9</td>\n",
       "      <td>The Walking Dead</td>\n",
       "      <td>SHOW</td>\n",
       "      <td>Sheriff's deputy Rick Grimes awakens from a co...</td>\n",
       "      <td>2010</td>\n",
       "      <td>TV-MA</td>\n",
       "      <td>46</td>\n",
       "      <td>['action', 'drama', 'scifi', 'thriller', 'horr...</td>\n",
       "      <td>['US']</td>\n",
       "      <td>11.000000</td>\n",
       "      <td>tt1520211</td>\n",
       "      <td>8.200000</td>\n",
       "      <td>9.451250e+05</td>\n",
       "      <td>773.190</td>\n",
       "      <td>8.100000</td>\n",
       "      <td>32</td>\n",
       "    </tr>\n",
       "    <tr>\n",
       "      <th>245</th>\n",
       "      <td>ts26091</td>\n",
       "      <td>The Staircase</td>\n",
       "      <td>SHOW</td>\n",
       "      <td>Academy Award-winning documentary filmmaker, J...</td>\n",
       "      <td>2004</td>\n",
       "      <td>TV-MA</td>\n",
       "      <td>49</td>\n",
       "      <td>['crime', 'documentation', 'drama']</td>\n",
       "      <td>['FR']</td>\n",
       "      <td>2.000000</td>\n",
       "      <td>tt0388644</td>\n",
       "      <td>7.800000</td>\n",
       "      <td>2.153100e+04</td>\n",
       "      <td>14.185</td>\n",
       "      <td>7.700000</td>\n",
       "      <td>95</td>\n",
       "    </tr>\n",
       "    <tr>\n",
       "      <th>246</th>\n",
       "      <td>ts11</td>\n",
       "      <td>Downton Abbey</td>\n",
       "      <td>SHOW</td>\n",
       "      <td>A chronicle of the lives of the aristocratic C...</td>\n",
       "      <td>2010</td>\n",
       "      <td>TV-14</td>\n",
       "      <td>58</td>\n",
       "      <td>['drama', 'romance', 'european']</td>\n",
       "      <td>['GB']</td>\n",
       "      <td>6.000000</td>\n",
       "      <td>tt1606375</td>\n",
       "      <td>8.700000</td>\n",
       "      <td>1.977440e+05</td>\n",
       "      <td>57.029</td>\n",
       "      <td>8.100000</td>\n",
       "      <td>33</td>\n",
       "    </tr>\n",
       "    <tr>\n",
       "      <th>247</th>\n",
       "      <td>ts21469</td>\n",
       "      <td>Grey's Anatomy</td>\n",
       "      <td>SHOW</td>\n",
       "      <td>Follows the personal and professional lives of...</td>\n",
       "      <td>2005</td>\n",
       "      <td>TV-14</td>\n",
       "      <td>49</td>\n",
       "      <td>['drama', 'romance']</td>\n",
       "      <td>['US']</td>\n",
       "      <td>18.000000</td>\n",
       "      <td>tt0413573</td>\n",
       "      <td>7.600000</td>\n",
       "      <td>2.936180e+05</td>\n",
       "      <td>1215.393</td>\n",
       "      <td>8.300000</td>\n",
       "      <td>17</td>\n",
       "    </tr>\n",
       "    <tr>\n",
       "      <th>...</th>\n",
       "      <td>...</td>\n",
       "      <td>...</td>\n",
       "      <td>...</td>\n",
       "      <td>...</td>\n",
       "      <td>...</td>\n",
       "      <td>...</td>\n",
       "      <td>...</td>\n",
       "      <td>...</td>\n",
       "      <td>...</td>\n",
       "      <td>...</td>\n",
       "      <td>...</td>\n",
       "      <td>...</td>\n",
       "      <td>...</td>\n",
       "      <td>...</td>\n",
       "      <td>...</td>\n",
       "      <td>...</td>\n",
       "    </tr>\n",
       "    <tr>\n",
       "      <th>5801</th>\n",
       "      <td>tm1014599</td>\n",
       "      <td>Fine Wine</td>\n",
       "      <td>MOVIE</td>\n",
       "      <td>A beautiful love story that can happen between...</td>\n",
       "      <td>2021</td>\n",
       "      <td>NaN</td>\n",
       "      <td>100</td>\n",
       "      <td>['romance', 'drama']</td>\n",
       "      <td>['NG']</td>\n",
       "      <td>2.165608</td>\n",
       "      <td>tt13857480</td>\n",
       "      <td>6.900000</td>\n",
       "      <td>3.900000e+01</td>\n",
       "      <td>0.966</td>\n",
       "      <td>6.818039</td>\n",
       "      <td>15</td>\n",
       "    </tr>\n",
       "    <tr>\n",
       "      <th>5802</th>\n",
       "      <td>tm1108171</td>\n",
       "      <td>Edis Starlight</td>\n",
       "      <td>MOVIE</td>\n",
       "      <td>Rising star Edis's career journey with ups and...</td>\n",
       "      <td>2021</td>\n",
       "      <td>NaN</td>\n",
       "      <td>74</td>\n",
       "      <td>['music', 'documentation']</td>\n",
       "      <td>[]</td>\n",
       "      <td>2.165608</td>\n",
       "      <td>NaN</td>\n",
       "      <td>6.533447</td>\n",
       "      <td>2.340719e+04</td>\n",
       "      <td>1.036</td>\n",
       "      <td>8.500000</td>\n",
       "      <td>9</td>\n",
       "    </tr>\n",
       "    <tr>\n",
       "      <th>5803</th>\n",
       "      <td>tm1045018</td>\n",
       "      <td>Clash</td>\n",
       "      <td>MOVIE</td>\n",
       "      <td>A man from Nigeria returns to his family in Ca...</td>\n",
       "      <td>2021</td>\n",
       "      <td>NaN</td>\n",
       "      <td>88</td>\n",
       "      <td>['family', 'drama']</td>\n",
       "      <td>['NG', 'CA']</td>\n",
       "      <td>2.165608</td>\n",
       "      <td>tt14620732</td>\n",
       "      <td>6.500000</td>\n",
       "      <td>3.200000e+01</td>\n",
       "      <td>0.709</td>\n",
       "      <td>6.818039</td>\n",
       "      <td>26</td>\n",
       "    </tr>\n",
       "    <tr>\n",
       "      <th>5804</th>\n",
       "      <td>tm1098060</td>\n",
       "      <td>Shadow Parties</td>\n",
       "      <td>MOVIE</td>\n",
       "      <td>A family faces destruction in a long-running c...</td>\n",
       "      <td>2021</td>\n",
       "      <td>NaN</td>\n",
       "      <td>116</td>\n",
       "      <td>['action', 'thriller']</td>\n",
       "      <td>[]</td>\n",
       "      <td>2.165608</td>\n",
       "      <td>tt10168094</td>\n",
       "      <td>6.200000</td>\n",
       "      <td>9.000000e+00</td>\n",
       "      <td>2.186</td>\n",
       "      <td>6.818039</td>\n",
       "      <td>20</td>\n",
       "    </tr>\n",
       "    <tr>\n",
       "      <th>5805</th>\n",
       "      <td>ts271048</td>\n",
       "      <td>Mighty Little Bheem: Kite Festival</td>\n",
       "      <td>SHOW</td>\n",
       "      <td>With winter behind them, Bheem and his townspe...</td>\n",
       "      <td>2021</td>\n",
       "      <td>NaN</td>\n",
       "      <td>0</td>\n",
       "      <td>['family', 'comedy', 'animation']</td>\n",
       "      <td>[]</td>\n",
       "      <td>1.000000</td>\n",
       "      <td>tt13711094</td>\n",
       "      <td>8.800000</td>\n",
       "      <td>1.600000e+01</td>\n",
       "      <td>0.979</td>\n",
       "      <td>10.000000</td>\n",
       "      <td>24</td>\n",
       "    </tr>\n",
       "  </tbody>\n",
       "</table>\n",
       "<p>5563 rows × 16 columns</p>\n",
       "</div>"
      ],
      "text/plain": [
       "             id                               title   type  \\\n",
       "243         ts4                        Breaking Bad   SHOW   \n",
       "244         ts9                    The Walking Dead   SHOW   \n",
       "245     ts26091                       The Staircase   SHOW   \n",
       "246        ts11                       Downton Abbey   SHOW   \n",
       "247     ts21469                      Grey's Anatomy   SHOW   \n",
       "...         ...                                 ...    ...   \n",
       "5801  tm1014599                           Fine Wine  MOVIE   \n",
       "5802  tm1108171                      Edis Starlight  MOVIE   \n",
       "5803  tm1045018                               Clash  MOVIE   \n",
       "5804  tm1098060                      Shadow Parties  MOVIE   \n",
       "5805   ts271048  Mighty Little Bheem: Kite Festival   SHOW   \n",
       "\n",
       "                                            description  release_year  \\\n",
       "243   When Walter White, a New Mexico chemistry teac...          2008   \n",
       "244   Sheriff's deputy Rick Grimes awakens from a co...          2010   \n",
       "245   Academy Award-winning documentary filmmaker, J...          2004   \n",
       "246   A chronicle of the lives of the aristocratic C...          2010   \n",
       "247   Follows the personal and professional lives of...          2005   \n",
       "...                                                 ...           ...   \n",
       "5801  A beautiful love story that can happen between...          2021   \n",
       "5802  Rising star Edis's career journey with ups and...          2021   \n",
       "5803  A man from Nigeria returns to his family in Ca...          2021   \n",
       "5804  A family faces destruction in a long-running c...          2021   \n",
       "5805  With winter behind them, Bheem and his townspe...          2021   \n",
       "\n",
       "     age_certification  runtime  \\\n",
       "243              TV-MA       48   \n",
       "244              TV-MA       46   \n",
       "245              TV-MA       49   \n",
       "246              TV-14       58   \n",
       "247              TV-14       49   \n",
       "...                ...      ...   \n",
       "5801               NaN      100   \n",
       "5802               NaN       74   \n",
       "5803               NaN       88   \n",
       "5804               NaN      116   \n",
       "5805               NaN        0   \n",
       "\n",
       "                                                 genres production_countries  \\\n",
       "243                      ['drama', 'thriller', 'crime']               ['US']   \n",
       "244   ['action', 'drama', 'scifi', 'thriller', 'horr...               ['US']   \n",
       "245                 ['crime', 'documentation', 'drama']               ['FR']   \n",
       "246                    ['drama', 'romance', 'european']               ['GB']   \n",
       "247                                ['drama', 'romance']               ['US']   \n",
       "...                                                 ...                  ...   \n",
       "5801                               ['romance', 'drama']               ['NG']   \n",
       "5802                         ['music', 'documentation']                   []   \n",
       "5803                                ['family', 'drama']         ['NG', 'CA']   \n",
       "5804                             ['action', 'thriller']                   []   \n",
       "5805                  ['family', 'comedy', 'animation']                   []   \n",
       "\n",
       "        seasons     imdb_id  imdb_score    imdb_votes  tmdb_popularity  \\\n",
       "243    5.000000   tt0903747    9.500000  1.727694e+06          337.419   \n",
       "244   11.000000   tt1520211    8.200000  9.451250e+05          773.190   \n",
       "245    2.000000   tt0388644    7.800000  2.153100e+04           14.185   \n",
       "246    6.000000   tt1606375    8.700000  1.977440e+05           57.029   \n",
       "247   18.000000   tt0413573    7.600000  2.936180e+05         1215.393   \n",
       "...         ...         ...         ...           ...              ...   \n",
       "5801   2.165608  tt13857480    6.900000  3.900000e+01            0.966   \n",
       "5802   2.165608         NaN    6.533447  2.340719e+04            1.036   \n",
       "5803   2.165608  tt14620732    6.500000  3.200000e+01            0.709   \n",
       "5804   2.165608  tt10168094    6.200000  9.000000e+00            2.186   \n",
       "5805   1.000000  tt13711094    8.800000  1.600000e+01            0.979   \n",
       "\n",
       "      tmdb_score  word_count  \n",
       "243     8.800000          56  \n",
       "244     8.100000          32  \n",
       "245     7.700000          95  \n",
       "246     8.100000          33  \n",
       "247     8.300000          17  \n",
       "...          ...         ...  \n",
       "5801    6.818039          15  \n",
       "5802    8.500000           9  \n",
       "5803    6.818039          26  \n",
       "5804    6.818039          20  \n",
       "5805   10.000000          24  \n",
       "\n",
       "[5563 rows x 16 columns]"
      ]
     },
     "execution_count": 14,
     "metadata": {},
     "output_type": "execute_result"
    }
   ],
   "source": [
    "df[df['release_year'] > 2000]"
   ]
  },
  {
   "cell_type": "code",
   "execution_count": 15,
   "id": "16568ab3",
   "metadata": {},
   "outputs": [
    {
     "data": {
      "text/plain": [
       "0       1945\n",
       "5       1969\n",
       "29      1972\n",
       "47      1989\n",
       "55      1982\n",
       "        ... \n",
       "5793    2021\n",
       "5794    2021\n",
       "5796    2021\n",
       "5799    2021\n",
       "5805    2021\n",
       "Name: release_year, Length: 2047, dtype: int64"
      ]
     },
     "execution_count": 15,
     "metadata": {},
     "output_type": "execute_result"
    }
   ],
   "source": [
    "df[df['type'] == 'SHOW']['release_year']"
   ]
  },
  {
   "cell_type": "markdown",
   "id": "8e5e2f45",
   "metadata": {},
   "source": [
    "All tvshows with their realease years"
   ]
  },
  {
   "cell_type": "code",
   "execution_count": 17,
   "id": "8a025bd6",
   "metadata": {},
   "outputs": [
    {
     "data": {
      "text/html": [
       "<div>\n",
       "<style scoped>\n",
       "    .dataframe tbody tr th:only-of-type {\n",
       "        vertical-align: middle;\n",
       "    }\n",
       "\n",
       "    .dataframe tbody tr th {\n",
       "        vertical-align: top;\n",
       "    }\n",
       "\n",
       "    .dataframe thead th {\n",
       "        text-align: right;\n",
       "    }\n",
       "</style>\n",
       "<table border=\"1\" class=\"dataframe\">\n",
       "  <thead>\n",
       "    <tr style=\"text-align: right;\">\n",
       "      <th></th>\n",
       "      <th>title</th>\n",
       "      <th>runtime</th>\n",
       "    </tr>\n",
       "  </thead>\n",
       "  <tbody>\n",
       "    <tr>\n",
       "      <th>3268</th>\n",
       "      <td>The Hateful Eight: Extended Version</td>\n",
       "      <td>199</td>\n",
       "    </tr>\n",
       "    <tr>\n",
       "      <th>3828</th>\n",
       "      <td>1994</td>\n",
       "      <td>178</td>\n",
       "    </tr>\n",
       "    <tr>\n",
       "      <th>388</th>\n",
       "      <td>Dead Set</td>\n",
       "      <td>141</td>\n",
       "    </tr>\n",
       "    <tr>\n",
       "      <th>2390</th>\n",
       "      <td>The Yard</td>\n",
       "      <td>108</td>\n",
       "    </tr>\n",
       "    <tr>\n",
       "      <th>1476</th>\n",
       "      <td>Intersection</td>\n",
       "      <td>97</td>\n",
       "    </tr>\n",
       "    <tr>\n",
       "      <th>...</th>\n",
       "      <td>...</td>\n",
       "      <td>...</td>\n",
       "    </tr>\n",
       "    <tr>\n",
       "      <th>4008</th>\n",
       "      <td>The Forest of Love: Deep Cut</td>\n",
       "      <td>0</td>\n",
       "    </tr>\n",
       "    <tr>\n",
       "      <th>5213</th>\n",
       "      <td>Savage Beauty</td>\n",
       "      <td>0</td>\n",
       "    </tr>\n",
       "    <tr>\n",
       "      <th>4776</th>\n",
       "      <td>I'm with the Band: Nasty Cherry</td>\n",
       "      <td>0</td>\n",
       "    </tr>\n",
       "    <tr>\n",
       "      <th>896</th>\n",
       "      <td>Masameer</td>\n",
       "      <td>0</td>\n",
       "    </tr>\n",
       "    <tr>\n",
       "      <th>5612</th>\n",
       "      <td>Metal Shop Masters</td>\n",
       "      <td>0</td>\n",
       "    </tr>\n",
       "  </tbody>\n",
       "</table>\n",
       "<p>841 rows × 2 columns</p>\n",
       "</div>"
      ],
      "text/plain": [
       "                                    title  runtime\n",
       "3268  The Hateful Eight: Extended Version      199\n",
       "3828                                 1994      178\n",
       "388                              Dead Set      141\n",
       "2390                             The Yard      108\n",
       "1476                         Intersection       97\n",
       "...                                   ...      ...\n",
       "4008         The Forest of Love: Deep Cut        0\n",
       "5213                        Savage Beauty        0\n",
       "4776      I'm with the Band: Nasty Cherry        0\n",
       "896                              Masameer        0\n",
       "5612                   Metal Shop Masters        0\n",
       "\n",
       "[841 rows x 2 columns]"
      ]
     },
     "execution_count": 17,
     "metadata": {},
     "output_type": "execute_result"
    }
   ],
   "source": [
    "df[(df['type']=='SHOW') & (df['age_certification']=='TV-MA')][['title','runtime']] \\\n",
    "  .sort_values(by=['runtime'],ascending=False)"
   ]
  },
  {
   "cell_type": "code",
   "execution_count": 18,
   "id": "d23c8faf",
   "metadata": {},
   "outputs": [
    {
     "data": {
      "image/png": "[encoded data removed]",
      "text/plain": [
       "<Figure size 432x288 with 1 Axes>"
      ]
     },
     "metadata": {
      "needs_background": "light"
     },
     "output_type": "display_data"
    }
   ],
   "source": [
    "df[df['type'] == \"MOVIE\"]['release_year'].hist()\n",
    "plt.show()"
   ]
  },
  {
   "cell_type": "markdown",
   "id": "dfd14639",
   "metadata": {},
   "source": [
    "maximum movies realesed between 2015 to 2021 on netflix"
   ]
  },
  {
   "cell_type": "code",
   "execution_count": 19,
   "id": "6405ca8c",
   "metadata": {},
   "outputs": [
    {
     "data": {
      "text/plain": [
       "SHOW    305\n",
       "Name: type, dtype: int64"
      ]
     },
     "execution_count": 19,
     "metadata": {},
     "output_type": "execute_result"
    }
   ],
   "source": [
    "df[df['seasons'] >3]['type'].value_counts()"
   ]
  },
  {
   "cell_type": "markdown",
   "id": "525fb3eb",
   "metadata": {},
   "source": [
    "there are 305 tv shows having more then 3 seasons"
   ]
  },
  {
   "cell_type": "markdown",
   "id": "a68cfcea",
   "metadata": {},
   "source": [
    "# 6. Content Based Recommendation System"
   ]
  },
  {
   "cell_type": "markdown",
   "id": "3574ecac",
   "metadata": {},
   "source": [
    "we choose description feature for finding similarities in content"
   ]
  },
  {
   "cell_type": "code",
   "execution_count": 20,
   "id": "ca3fed45",
   "metadata": {},
   "outputs": [
    {
     "data": {
      "text/plain": [
       "0    This collection includes 12 World War II-era p...\n",
       "Name: description, dtype: object"
      ]
     },
     "execution_count": 20,
     "metadata": {},
     "output_type": "execute_result"
    }
   ],
   "source": [
    "df.head(1)['description']"
   ]
  },
  {
   "cell_type": "code",
   "execution_count": 21,
   "id": "cebc38bd",
   "metadata": {},
   "outputs": [],
   "source": [
    "tf = TfidfVectorizer(analyzer='word', ngram_range=(1, 3),strip_accents= \"unicode\" ,min_df=3, stop_words='english')\n",
    "df['description'] = df['description'].fillna(\"\")\n",
    "tfidf_matrix = tf.fit_transform(df['description'])"
   ]
  },
  {
   "cell_type": "code",
   "execution_count": 22,
   "id": "1459d284",
   "metadata": {},
   "outputs": [
    {
     "data": {
      "text/plain": [
       "<5806x9285 sparse matrix of type '<class 'numpy.float64'>'\n",
       "\twith 110729 stored elements in Compressed Sparse Row format>"
      ]
     },
     "execution_count": 22,
     "metadata": {},
     "output_type": "execute_result"
    }
   ],
   "source": [
    "tfidf_matrix"
   ]
  },
  {
   "cell_type": "code",
   "execution_count": 23,
   "id": "988e2391",
   "metadata": {},
   "outputs": [
    {
     "data": {
      "text/plain": [
       "(5806, 9285)"
      ]
     },
     "execution_count": 23,
     "metadata": {},
     "output_type": "execute_result"
    }
   ],
   "source": [
    "tfidf_matrix.shape"
   ]
  },
  {
   "cell_type": "code",
   "execution_count": 24,
   "id": "1c8afb96",
   "metadata": {},
   "outputs": [],
   "source": [
    "sig = sigmoid_kernel(tfidf_matrix,tfidf_matrix)"
   ]
  },
  {
   "cell_type": "code",
   "execution_count": 25,
   "id": "dd9505aa",
   "metadata": {},
   "outputs": [
    {
     "data": {
      "text/plain": [
       "array([0.76163938, 0.76159546, 0.76159416, ..., 0.76159416, 0.76159416,\n",
       "       0.76159416])"
      ]
     },
     "execution_count": 25,
     "metadata": {},
     "output_type": "execute_result"
    }
   ],
   "source": [
    "sig[0]"
   ]
  },
  {
   "cell_type": "code",
   "execution_count": 26,
   "id": "a6cfb912",
   "metadata": {},
   "outputs": [],
   "source": [
    "indices= pd.Series(df.index,index=df['title']).drop_duplicates()"
   ]
  },
  {
   "cell_type": "code",
   "execution_count": 27,
   "id": "212fbde7",
   "metadata": {},
   "outputs": [
    {
     "data": {
      "text/plain": [
       "title\n",
       "Five Came Back: The Reference Films       0\n",
       "Taxi Driver                               1\n",
       "Monty Python and the Holy Grail           2\n",
       "Life of Brian                             3\n",
       "The Exorcist                              4\n",
       "                                       ... \n",
       "Fine Wine                              5801\n",
       "Edis Starlight                         5802\n",
       "Clash                                  5803\n",
       "Shadow Parties                         5804\n",
       "Mighty Little Bheem: Kite Festival     5805\n",
       "Length: 5806, dtype: int64"
      ]
     },
     "execution_count": 27,
     "metadata": {},
     "output_type": "execute_result"
    }
   ],
   "source": [
    "indices"
   ]
  },
  {
   "cell_type": "code",
   "execution_count": 28,
   "id": "a8695160",
   "metadata": {},
   "outputs": [],
   "source": [
    "def give_rec(title, sig=sig):\n",
    "    idx = indices[title]\n",
    "    \n",
    "    sig_scores = list(enumerate(sig[idx]))\n",
    "    \n",
    "    sig_scores = sorted(sig_scores,key=lambda x: x[1],reverse = True)\n",
    "    \n",
    "    sig_scores = sig_scores[1:11]\n",
    "    \n",
    "    movie_indices = [i[0] for i in sig_scores]\n",
    "    \n",
    "    return df['title'].iloc[movie_indices]"
   ]
  },
  {
   "cell_type": "code",
   "execution_count": 29,
   "id": "e3719c6e",
   "metadata": {},
   "outputs": [
    {
     "data": {
      "text/plain": [
       "673                                             Fida\n",
       "4692                                        Soulmate\n",
       "5565                          Most Eligible Bachelor\n",
       "450                                     Jodhaa Akbar\n",
       "1820                                 Love Is a Story\n",
       "3150                                Ascharya Fuck It\n",
       "2979                                    Solo el amor\n",
       "5661    Making Malinche: A Documentary by Nacho Cano\n",
       "2783                                        Love.com\n",
       "5394                          Why Are You Like This?\n",
       "Name: title, dtype: object"
      ]
     },
     "execution_count": 29,
     "metadata": {},
     "output_type": "execute_result"
    }
   ],
   "source": [
    "give_rec('Fine Wine')"
   ]
  },
  {
   "cell_type": "markdown",
   "id": "4d415e9d",
   "metadata": {},
   "source": [
    "we recommend movies to user based on similarities in description\n",
    "\n",
    "sigmoid method is used to find similarities\n",
    "\n",
    "extract some useful information"
   ]
  },
  {
   "cell_type": "code",
   "execution_count": null,
   "id": "b87b7090",
   "metadata": {},
   "outputs": [],
   "source": []
  }
 ],
 "metadata": {
  "kernelspec": {
   "display_name": "Python 3 (ipykernel)",
   "language": "python",
   "name": "python3"
  },
  "language_info": {
   "codemirror_mode": {
    "name": "ipython",
    "version": 3
   },
   "file_extension": ".py",
   "mimetype": "text/x-python",
   "name": "python",
   "nbconvert_exporter": "python",
   "pygments_lexer": "ipython3",
   "version": "3.9.7"
  }
 },
 "nbformat": 4,
 "nbformat_minor": 5
}
